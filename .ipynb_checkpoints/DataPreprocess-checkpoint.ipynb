{
 "cells": [
  {
   "cell_type": "markdown",
   "metadata": {},
   "source": [
    "# 数据获取"
   ]
  },
  {
   "cell_type": "markdown",
   "metadata": {},
   "source": [
    "初始化 Spark"
   ]
  },
  {
   "cell_type": "code",
   "execution_count": 1,
   "metadata": {},
   "outputs": [],
   "source": [
    "import findspark\n",
    "findspark.init()\n",
    "\n",
    "from pyspark.sql import SparkSession # SparkSession 是Spark 2.0版本的新入口\n",
    "spark = SparkSession.builder.master('local').getOrCreate()"
   ]
  },
  {
   "cell_type": "markdown",
   "metadata": {},
   "source": [
    "定义schema"
   ]
  },
  {
   "cell_type": "code",
   "execution_count": 2,
   "metadata": {},
   "outputs": [],
   "source": [
    "from pyspark.sql.types import StructType, StructField, IntegerType, StringType, FloatType\n",
    "\n",
    "schema= StructType([\n",
    "    StructField(\"review_id\",StringType(),False),\n",
    "    StructField(\"longitude\",FloatType(),False),\n",
    "    StructField(\"latitude\",FloatType(),False),\n",
    "    StructField(\"altitude\",FloatType(),False),\n",
    "    StructField(\"review_date\",StringType(),False),\n",
    "    StructField(\"temperature\",StringType(),False),\n",
    "    StructField(\"rating\",FloatType(),False),\n",
    "    StructField(\"user_id\",StringType(),False),\n",
    "    StructField(\"user_birthday\",StringType(),False),\n",
    "    StructField(\"user_nationality\",StringType(),False),\n",
    "    StructField(\"user_career\",StringType(),False),\n",
    "    StructField(\"user_income\",FloatType(),False),\n",
    "])"
   ]
  },
  {
   "cell_type": "markdown",
   "metadata": {},
   "source": [
    "从hdfs加载数据，获得dataframe"
   ]
  },
  {
   "cell_type": "code",
   "execution_count": 3,
   "metadata": {},
   "outputs": [],
   "source": [
    "data = spark.read.csv(path=\"hdfs://localhost:9000/user/bdlab/lab1/data_all.txt.gz\",header=None,schema=schema,sep='|')"
   ]
  },
  {
   "cell_type": "code",
   "execution_count": 4,
   "metadata": {
    "collapsed": true
   },
   "outputs": [
    {
     "name": "stdout",
     "output_type": "stream",
     "text": [
      "+---------+---------+---------+---------+-----------+-----------+------+-------+--------------+----------------+-----------+-----------+\n",
      "|review_id|longitude| latitude| altitude|review_date|temperature|rating|user_id| user_birthday|user_nationality|user_career|user_income|\n",
      "+---------+---------+---------+---------+-----------+-----------+------+-------+--------------+----------------+-----------+-----------+\n",
      "|144552912| 9.349849|56.740875|17.052773| 2011/06/27|      18.5℃| 83.91|  38267|    1974-06-08|     Switzerland| programmer|     5042.0|\n",
      "|144552912| 9.350188| 56.74068| 17.61484| 2016-10-08|      37.8℉|  78.8|   1205|    1991-04-14|           Italy|    teacher|     1705.0|\n",
      "|144552912| 9.350549|56.740543|18.083536| 2010/05/19|      14.0℃| 80.73|  28343|   May 25,1989|      Luxembourg|     farmer|     3208.0|\n",
      "|144552912| 9.350806|56.740486|18.279465| 2014/10/19|       2.6℃| 80.52|  36251|August 25,1992|         Belgium| programmer|     2565.0|\n",
      "+---------+---------+---------+---------+-----------+-----------+------+-------+--------------+----------------+-----------+-----------+\n",
      "only showing top 4 rows\n",
      "\n"
     ]
    }
   ],
   "source": [
    "data.show(4)"
   ]
  },
  {
   "cell_type": "markdown",
   "metadata": {},
   "source": [
    "# 分层抽样"
   ]
  },
  {
   "cell_type": "code",
   "execution_count": 5,
   "metadata": {},
   "outputs": [],
   "source": [
    "Rdd = data.rdd"
   ]
  },
  {
   "cell_type": "code",
   "execution_count": 10,
   "metadata": {},
   "outputs": [],
   "source": [
    "# 映射为 pair(career,rows) \n",
    "# 按career分层\n",
    "sample = Rdd.map(lambda x : (x['user_career'],[x]))"
   ]
  },
  {
   "cell_type": "code",
   "execution_count": 11,
   "metadata": {},
   "outputs": [
    {
     "data": {
      "text/plain": [
       "[('programmer',\n",
       "  [Row(review_id='144552912', longitude=9.349848747253418, latitude=56.740875244140625, altitude=17.052772521972656, review_date='2011/06/27', temperature='18.5℃', rating=83.91000366210938, user_id='38267', user_birthday='1974-06-08', user_nationality='Switzerland', user_career='programmer', user_income=5042.0)]),\n",
       " ('teacher',\n",
       "  [Row(review_id='144552912', longitude=9.350188255310059, latitude=56.74068069458008, altitude=17.614839553833008, review_date='2016-10-08', temperature='37.8℉', rating=78.80000305175781, user_id='1205', user_birthday='1991-04-14', user_nationality='Italy', user_career='teacher', user_income=1705.0)])]"
      ]
     },
     "execution_count": 11,
     "metadata": {},
     "output_type": "execute_result"
    }
   ],
   "source": [
    "sample.take(2)"
   ]
  },
  {
   "cell_type": "markdown",
   "metadata": {},
   "source": [
    "## 分层抽样"
   ]
  },
  {
   "cell_type": "markdown",
   "metadata": {},
   "source": [
    "分层"
   ]
  },
  {
   "cell_type": "code",
   "execution_count": 6,
   "metadata": {},
   "outputs": [
    {
     "ename": "SyntaxError",
     "evalue": "unexpected EOF while parsing (<ipython-input-6-b0990e6fda49>, line 1)",
     "output_type": "error",
     "traceback": [
      "\u001b[0;36m  File \u001b[0;32m\"<ipython-input-6-b0990e6fda49>\"\u001b[0;36m, line \u001b[0;32m1\u001b[0m\n\u001b[0;31m    def layer(line):\u001b[0m\n\u001b[0m                    ^\u001b[0m\n\u001b[0;31mSyntaxError\u001b[0m\u001b[0;31m:\u001b[0m unexpected EOF while parsing\n"
     ]
    }
   ],
   "source": [
    "def layer(x,y):\n",
    "    \"\"\"\n",
    "    Row x , y  with same key.\n",
    "    \"\"\"\n",
    "    \n",
    "    \n",
    "    "
   ]
  },
  {
   "cell_type": "code",
   "execution_count": null,
   "metadata": {},
   "outputs": [],
   "source": [
    "data.map"
   ]
  }
 ],
 "metadata": {
  "kernelspec": {
   "display_name": "Python 3",
   "language": "python",
   "name": "python3"
  },
  "language_info": {
   "codemirror_mode": {
    "name": "ipython",
    "version": 3
   },
   "file_extension": ".py",
   "mimetype": "text/x-python",
   "name": "python",
   "nbconvert_exporter": "python",
   "pygments_lexer": "ipython3",
   "version": "3.6.5"
  }
 },
 "nbformat": 4,
 "nbformat_minor": 2
}
