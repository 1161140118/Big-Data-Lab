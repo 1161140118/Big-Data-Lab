{
 "cells": [
  {
   "cell_type": "markdown",
   "metadata": {},
   "source": [
    "# 1.数据导入与划分"
   ]
  },
  {
   "cell_type": "code",
   "execution_count": 1,
   "metadata": {},
   "outputs": [],
   "source": [
    "from pyspark.sql import SparkSession # SparkSession 是Spark 2.0版本的新入口\n",
    "spark = SparkSession.builder.master('local').getOrCreate()"
   ]
  },
  {
   "cell_type": "code",
   "execution_count": 3,
   "metadata": {},
   "outputs": [],
   "source": [
    "raw_data = spark.read.csv(path=\"hdfs://localhost:9000/user/bdlab/lab2/SUSY.csv.gz\",header=False,inferSchema=True)"
   ]
  },
  {
   "cell_type": "code",
   "execution_count": 9,
   "metadata": {},
   "outputs": [
    {
     "name": "stdout",
     "output_type": "stream",
     "text": [
      "root\n",
      " |-- _c0: double (nullable = true)\n",
      " |-- _c1: double (nullable = true)\n",
      " |-- _c2: double (nullable = true)\n",
      " |-- _c3: double (nullable = true)\n",
      " |-- _c4: double (nullable = true)\n",
      " |-- _c5: double (nullable = true)\n",
      " |-- _c6: double (nullable = true)\n",
      " |-- _c7: double (nullable = true)\n",
      " |-- _c8: double (nullable = true)\n",
      " |-- _c9: double (nullable = true)\n",
      " |-- _c10: double (nullable = true)\n",
      " |-- _c11: double (nullable = true)\n",
      " |-- _c12: double (nullable = true)\n",
      " |-- _c13: double (nullable = true)\n",
      " |-- _c14: double (nullable = true)\n",
      " |-- _c15: double (nullable = true)\n",
      " |-- _c16: double (nullable = true)\n",
      " |-- _c17: double (nullable = true)\n",
      " |-- _c18: double (nullable = true)\n",
      "\n"
     ]
    }
   ],
   "source": [
    "raw_data.printSchema()"
   ]
  },
  {
   "cell_type": "code",
   "execution_count": 29,
   "metadata": {},
   "outputs": [
    {
     "data": {
      "text/plain": [
       "5000000"
      ]
     },
     "execution_count": 29,
     "metadata": {},
     "output_type": "execute_result"
    }
   ],
   "source": [
    "raw_data.count()"
   ]
  },
  {
   "cell_type": "code",
   "execution_count": 4,
   "metadata": {},
   "outputs": [],
   "source": [
    "train,test = raw_data.randomSplit([0.8,0.2])"
   ]
  },
  {
   "cell_type": "code",
   "execution_count": 45,
   "metadata": {},
   "outputs": [
    {
     "data": {
      "text/plain": [
       "[Row(_c0=0.0, count=2712173), Row(_c0=1.0, count=2287827)]"
      ]
     },
     "execution_count": 45,
     "metadata": {},
     "output_type": "execute_result"
    }
   ],
   "source": [
    "raw_data.groupBy(raw_data[0]).count().collect()"
   ]
  },
  {
   "cell_type": "code",
   "execution_count": 86,
   "metadata": {},
   "outputs": [],
   "source": [
    "prob_0 = 2712173/5000000\n",
    "prob_1 = 1-prob_0"
   ]
  },
  {
   "cell_type": "code",
   "execution_count": 5,
   "metadata": {},
   "outputs": [
    {
     "data": {
      "text/plain": [
       "[Row(_c0=0.0, count=2170505), Row(_c0=1.0, count=1829609)]"
      ]
     },
     "execution_count": 5,
     "metadata": {},
     "output_type": "execute_result"
    }
   ],
   "source": [
    "train.groupBy(raw_data[0]).count().collect()"
   ]
  },
  {
   "cell_type": "code",
   "execution_count": 6,
   "metadata": {},
   "outputs": [
    {
     "data": {
      "text/plain": [
       "[Row(_c0=0.0, count=541668), Row(_c0=1.0, count=458218)]"
      ]
     },
     "execution_count": 6,
     "metadata": {},
     "output_type": "execute_result"
    }
   ],
   "source": [
    "test.groupBy(raw_data[0]).count().collect()"
   ]
  },
  {
   "cell_type": "code",
   "execution_count": null,
   "metadata": {},
   "outputs": [],
   "source": [
    "# 划分后写入hdfs\n",
    "test.write.csv(path=\"hdfs://localhost:9000/user/bdlab/lab2/SUSY_test.csv.gzip\",compression=\"gzip\")\n",
    "train.write.csv(path=\"hdfs://localhost:9000/user/bdlab/lab2/SUSY_train.csv.gzip\",compression=\"gzip\")"
   ]
  },
  {
   "cell_type": "markdown",
   "metadata": {},
   "source": [
    "测试集处理"
   ]
  },
  {
   "cell_type": "code",
   "execution_count": 141,
   "metadata": {},
   "outputs": [],
   "source": [
    "test_data = test.select(test.columns[1:])"
   ]
  },
  {
   "cell_type": "code",
   "execution_count": 142,
   "metadata": {},
   "outputs": [],
   "source": [
    "test_label = test.select(test.columns[0])"
   ]
  },
  {
   "cell_type": "markdown",
   "metadata": {},
   "source": [
    "# 2.Naive-Bayes"
   ]
  },
  {
   "cell_type": "code",
   "execution_count": 148,
   "metadata": {},
   "outputs": [],
   "source": [
    "import pandas as pd\n",
    "import numpy as np\n",
    "from sklearn.metrics import confusion_matrix"
   ]
  },
  {
   "cell_type": "code",
   "execution_count": 12,
   "metadata": {},
   "outputs": [],
   "source": [
    "# 加载train\n",
    "# train = spark.read.csv(path=\"hdfs://localhost:9000/user/bdlab/lab2/SUSY_train.csv.gzip\",header=False,inferSchema=True)"
   ]
  },
  {
   "cell_type": "code",
   "execution_count": 74,
   "metadata": {},
   "outputs": [],
   "source": [
    "cal_mean_func = { _:\"mean\" for _ in train.columns[1:] }\n",
    "cal_var_func = { _:\"variance\" for _ in train.columns[1:]}"
   ]
  },
  {
   "cell_type": "code",
   "execution_count": 131,
   "metadata": {},
   "outputs": [
    {
     "name": "stdout",
     "output_type": "stream",
     "text": [
      "CPU times: user 23.8 ms, sys: 7.06 ms, total: 30.9 ms\n",
      "Wall time: 1min 57s\n"
     ]
    }
   ],
   "source": [
    "mean_train = train.groupBy(train[0]).agg(cal_mean_func).collect()\n",
    "var_train = sample_train.groupBy(train[0]).agg(cal_var_func).collect()"
   ]
  },
  {
   "cell_type": "code",
   "execution_count": 143,
   "metadata": {},
   "outputs": [],
   "source": [
    "mean_0 = [ mean_train[0][\"avg(_c\"+str(i)+str(\")\")] for i in range(1,19)]\n",
    "mean_1 = [ mean_train[1][\"avg(_c\"+str(i)+str(\")\")] for i in range(1,19)]\n",
    "var_0 = [ var_train[0][\"variance(_c\"+str(i)+str(\")\")] for i in range(1,19)]\n",
    "var_1 = [ var_train[0][\"variance(_c\"+str(i)+str(\")\")] for i in range(1,19)]"
   ]
  },
  {
   "cell_type": "code",
   "execution_count": 135,
   "metadata": {},
   "outputs": [],
   "source": [
    "const_pi = 1/ np.sqrt(2*np.pi)\n",
    "def GaussianProb(x,miu,sigmaq):\n",
    "    left = const_pi / np.sqrt(sigmaq)\n",
    "    right = np.exp(- (x - miu)**2 / (2 * sigmaq))\n",
    "    return left*right\n",
    "\n",
    "def NB_classifier(x):\n",
    "    \"\"\"\n",
    "    input:\n",
    "        x: a vec with len of 18\n",
    "    ouput:\n",
    "        result: 0 or 1\n",
    "    \"\"\"\n",
    "    if len(x) != 18:\n",
    "        raise ValueError\n",
    "        \n",
    "    # 计算 0 概率\n",
    "    result_0 = prob_0\n",
    "    for i in range(18):\n",
    "        result_0 = result_0 * GaussianProb(x[i],mean_0[i],var_0[i])\n",
    "        \n",
    "    # 计算 1 概率\n",
    "    result_1 = prob_1\n",
    "    for i in range(18):\n",
    "        result_1 = result_1 * GaussianProb(x[i],mean_1[i],var_1[i])\n",
    "    return 0 if result_0>result_1 else 1\n",
    "\n",
    "def NB_predict(testset):\n",
    "    return [ NB_classifier(_) for _ in testset ]"
   ]
  },
  {
   "cell_type": "code",
   "execution_count": 156,
   "metadata": {},
   "outputs": [],
   "source": [
    "np.save(\"test_data_arr\",test_data_arr)"
   ]
  },
  {
   "cell_type": "code",
   "execution_count": 160,
   "metadata": {},
   "outputs": [],
   "source": [
    "np.save(\"test_label_arr\",test_label_arr)"
   ]
  },
  {
   "cell_type": "code",
   "execution_count": null,
   "metadata": {},
   "outputs": [],
   "source": []
  },
  {
   "cell_type": "code",
   "execution_count": null,
   "metadata": {},
   "outputs": [],
   "source": []
  },
  {
   "cell_type": "code",
   "execution_count": null,
   "metadata": {},
   "outputs": [],
   "source": []
  },
  {
   "cell_type": "code",
   "execution_count": null,
   "metadata": {},
   "outputs": [],
   "source": []
  },
  {
   "cell_type": "markdown",
   "metadata": {},
   "source": [
    "# 3.Logistic-Regression"
   ]
  },
  {
   "cell_type": "code",
   "execution_count": 165,
   "metadata": {},
   "outputs": [],
   "source": [
    "def sigmod(x,theta):\n",
    "    return 1/(1+np.exp( - np.matmul(x,theta)))"
   ]
  },
  {
   "cell_type": "code",
   "execution_count": null,
   "metadata": {},
   "outputs": [],
   "source": []
  }
 ],
 "metadata": {
  "kernelspec": {
   "display_name": "Python 3",
   "language": "python",
   "name": "python3"
  },
  "language_info": {
   "codemirror_mode": {
    "name": "ipython",
    "version": 3
   },
   "file_extension": ".py",
   "mimetype": "text/x-python",
   "name": "python",
   "nbconvert_exporter": "python",
   "pygments_lexer": "ipython3",
   "version": "3.6.5"
  }
 },
 "nbformat": 4,
 "nbformat_minor": 2
}
