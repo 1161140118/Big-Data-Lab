{
 "cells": [
  {
   "cell_type": "markdown",
   "metadata": {},
   "source": [
    "# 0.数据加载"
   ]
  },
  {
   "cell_type": "markdown",
   "metadata": {},
   "source": [
    "初始化 Spark"
   ]
  },
  {
   "cell_type": "code",
   "execution_count": 1,
   "metadata": {},
   "outputs": [],
   "source": [
    "import findspark\n",
    "findspark.init()\n",
    "\n",
    "from pyspark.sql import SparkSession # SparkSession 是Spark 2.0版本的新入口\n",
    "spark = SparkSession.builder.master('local').getOrCreate()"
   ]
  },
  {
   "cell_type": "markdown",
   "metadata": {},
   "source": [
    "### 格式化读取"
   ]
  },
  {
   "cell_type": "markdown",
   "metadata": {},
   "source": [
    "定义schema"
   ]
  },
  {
   "cell_type": "code",
   "execution_count": 2,
   "metadata": {},
   "outputs": [],
   "source": [
    "from pyspark.sql.types import StructType, StructField, IntegerType, StringType, FloatType\n",
    "\n",
    "schema= StructType([\n",
    "    StructField(\"review_id\",StringType(),True),\n",
    "    StructField(\"longitude\",FloatType(),True),\n",
    "    StructField(\"latitude\",FloatType(),True),\n",
    "    StructField(\"altitude\",FloatType(),True),\n",
    "    StructField(\"review_date\",StringType(),True),\n",
    "    StructField(\"temperature\",StringType(),True),\n",
    "    StructField(\"rating\",FloatType(),True),\n",
    "    StructField(\"user_id\",StringType(),True),\n",
    "    StructField(\"user_birthday\",StringType(),True),\n",
    "    StructField(\"user_nationality\",StringType(),True),\n",
    "    StructField(\"user_career\",StringType(),True),\n",
    "    StructField(\"user_income\",FloatType(),True),\n",
    "])"
   ]
  },
  {
   "cell_type": "markdown",
   "metadata": {},
   "source": [
    "从hdfs加载数据，获得dataframe\n",
    "\n",
    "注意设置 nullValue 标志"
   ]
  },
  {
   "cell_type": "code",
   "execution_count": 3,
   "metadata": {},
   "outputs": [
    {
     "data": {
      "text/plain": [
       "4783614"
      ]
     },
     "execution_count": 3,
     "metadata": {},
     "output_type": "execute_result"
    }
   ],
   "source": [
    "data = spark.read.csv(path=\"hdfs://localhost:9000/user/bdlab/lab1/data_all.txt.gz\",header=None,nullValue='?',schema=schema,sep='|')\n",
    "data.count()"
   ]
  },
  {
   "cell_type": "code",
   "execution_count": 4,
   "metadata": {},
   "outputs": [
    {
     "data": {
      "text/plain": [
       "[Row(review_id='144552912', longitude=9.349848747253418, latitude=56.740875244140625, altitude=17.052772521972656, review_date='2011/06/27', temperature='18.5℃', rating=83.91000366210938, user_id='38267', user_birthday='1974-06-08', user_nationality='Switzerland', user_career='programmer', user_income=5042.0),\n",
       " Row(review_id='144552912', longitude=9.350188255310059, latitude=56.74068069458008, altitude=17.614839553833008, review_date='2016-10-08', temperature='37.8℉', rating=78.80000305175781, user_id='1205', user_birthday='1991-04-14', user_nationality='Italy', user_career='teacher', user_income=1705.0)]"
      ]
     },
     "execution_count": 4,
     "metadata": {},
     "output_type": "execute_result"
    }
   ],
   "source": [
    "data.take(2)"
   ]
  },
  {
   "cell_type": "code",
   "execution_count": 58,
   "metadata": {},
   "outputs": [
    {
     "name": "stdout",
     "output_type": "stream",
     "text": [
      "+-----------+------+\n",
      "|user_career| count|\n",
      "+-----------+------+\n",
      "|    teacher|607541|\n",
      "|     writer|606584|\n",
      "| programmer|600149|\n",
      "|     farmer|600468|\n",
      "| accountant|587367|\n",
      "|     artist|590183|\n",
      "|    Manager|595507|\n",
      "|     doctor|595815|\n",
      "+-----------+------+\n",
      "\n"
     ]
    }
   ],
   "source": [
    "data.groupBy('user_career').count().show()"
   ]
  },
  {
   "cell_type": "code",
   "execution_count": 14,
   "metadata": {},
   "outputs": [
    {
     "data": {
      "text/plain": [
       "4783614"
      ]
     },
     "execution_count": 14,
     "metadata": {},
     "output_type": "execute_result"
    }
   ],
   "source": [
    "607541+606584+600149+600468+587367+590183+595507+595815"
   ]
  },
  {
   "cell_type": "markdown",
   "metadata": {},
   "source": [
    "### 转换RDD"
   ]
  },
  {
   "cell_type": "code",
   "execution_count": 4,
   "metadata": {},
   "outputs": [],
   "source": [
    "data_rdd = data.rdd"
   ]
  },
  {
   "cell_type": "code",
   "execution_count": 6,
   "metadata": {
    "scrolled": true
   },
   "outputs": [
    {
     "data": {
      "text/plain": [
       "[Row(review_id='144552912', longitude=9.349848747253418, latitude=56.740875244140625, altitude=17.052772521972656, review_date='2011/06/27', temperature='18.5℃', rating=83.91000366210938, user_id='38267', user_birthday='1974-06-08', user_nationality='Switzerland', user_career='programmer', user_income=5042.0),\n",
       " Row(review_id='144552912', longitude=9.350188255310059, latitude=56.74068069458008, altitude=17.614839553833008, review_date='2016-10-08', temperature='37.8℉', rating=78.80000305175781, user_id='1205', user_birthday='1991-04-14', user_nationality='Italy', user_career='teacher', user_income=1705.0)]"
      ]
     },
     "execution_count": 6,
     "metadata": {},
     "output_type": "execute_result"
    }
   ],
   "source": [
    "data_rdd.take(2)"
   ]
  },
  {
   "cell_type": "markdown",
   "metadata": {},
   "source": [
    "# 1.分层抽样"
   ]
  },
  {
   "cell_type": "markdown",
   "metadata": {},
   "source": [
    "映射为 pair(career,rows) "
   ]
  },
  {
   "cell_type": "code",
   "execution_count": 5,
   "metadata": {},
   "outputs": [],
   "source": [
    "# 按career分层\n",
    "sample = data_rdd.map(lambda x : (x['user_career'],[x]))"
   ]
  },
  {
   "cell_type": "code",
   "execution_count": 8,
   "metadata": {},
   "outputs": [
    {
     "data": {
      "text/plain": [
       "[('programmer',\n",
       "  [Row(review_id='144552912', longitude=9.349848747253418, latitude=56.740875244140625, altitude=17.052772521972656, review_date='2011/06/27', temperature='18.5℃', rating=83.91000366210938, user_id='38267', user_birthday='1974-06-08', user_nationality='Switzerland', user_career='programmer', user_income=5042.0)]),\n",
       " ('teacher',\n",
       "  [Row(review_id='144552912', longitude=9.350188255310059, latitude=56.74068069458008, altitude=17.614839553833008, review_date='2016-10-08', temperature='37.8℉', rating=78.80000305175781, user_id='1205', user_birthday='1991-04-14', user_nationality='Italy', user_career='teacher', user_income=1705.0)])]"
      ]
     },
     "execution_count": 8,
     "metadata": {},
     "output_type": "execute_result"
    }
   ],
   "source": [
    "sample.take(2)"
   ]
  },
  {
   "cell_type": "markdown",
   "metadata": {},
   "source": [
    "分层抽样 1%"
   ]
  },
  {
   "cell_type": "code",
   "execution_count": 6,
   "metadata": {},
   "outputs": [],
   "source": [
    "# 分层函数\n",
    "n = 1\n",
    "def layer(x,y):\n",
    "    \"\"\"\n",
    "    Row x , y  with same key.\n",
    "    \"\"\"\n",
    "    global n\n",
    "    n += 1 \n",
    "    if n%100 is 1:\n",
    "        return x+y\n",
    "    return x      "
   ]
  },
  {
   "cell_type": "code",
   "execution_count": 35,
   "metadata": {},
   "outputs": [],
   "source": [
    "sample_layer = sample.reduceByKey(layer)"
   ]
  },
  {
   "cell_type": "code",
   "execution_count": 36,
   "metadata": {},
   "outputs": [],
   "source": [
    "sample_layer_result = sample_layer.collect()"
   ]
  },
  {
   "cell_type": "code",
   "execution_count": 37,
   "metadata": {},
   "outputs": [
    {
     "name": "stdout",
     "output_type": "stream",
     "text": [
      "programmer 5906\n",
      "teacher 6118\n",
      "farmer 6039\n",
      "doctor 5975\n",
      "Manager 5911\n",
      "accountant 5874\n",
      "artist 5816\n",
      "writer 6205\n"
     ]
    }
   ],
   "source": [
    "for item in sample_layer_result:\n",
    "    print(item[0],len(item[1]))"
   ]
  },
  {
   "cell_type": "code",
   "execution_count": 38,
   "metadata": {
    "collapsed": true
   },
   "outputs": [
    {
     "data": {
      "text/plain": [
       "[Row(review_id='144552912', longitude=9.349848747253418, latitude=56.740875244140625, altitude=17.052772521972656, review_date='2011/06/27', temperature='18.5℃', rating=83.91000366210938, user_id='38267', user_birthday='1974-06-08', user_nationality='Switzerland', user_career='programmer', user_income=5042.0),\n",
       " Row(review_id='125830646', longitude=9.975799560546875, latitude=56.607295989990234, altitude=54.140926361083984, review_date='2011-08-04', temperature='52.3℉', rating=88.77999877929688, user_id='14661', user_birthday='1980-11-20', user_nationality='Italy', user_career='programmer', user_income=2128.0),\n",
       " Row(review_id='26218810', longitude=9.98774242401123, latitude=56.99723434448242, altitude=10.679211616516113, review_date='2010-02-27', temperature='-2.1℃', rating=81.68000030517578, user_id='9308', user_birthday='1986/11/09', user_nationality='Austria', user_career='programmer', user_income=2681.0)]"
      ]
     },
     "execution_count": 38,
     "metadata": {},
     "output_type": "execute_result"
    }
   ],
   "source": [
    "sample_layer_result[0][1][:3]"
   ]
  },
  {
   "cell_type": "markdown",
   "metadata": {},
   "source": [
    "#### flat映射： 划分value至多行，格式化str"
   ]
  },
  {
   "cell_type": "code",
   "execution_count": 39,
   "metadata": {},
   "outputs": [],
   "source": [
    "sample_layer = sample_layer.flatMap(lambda x:x[1][:])"
   ]
  },
  {
   "cell_type": "code",
   "execution_count": 77,
   "metadata": {},
   "outputs": [],
   "source": [
    "def str_form(item):\n",
    "    return \"|\".join([str(x) for x in item[:]])"
   ]
  },
  {
   "cell_type": "code",
   "execution_count": 78,
   "metadata": {},
   "outputs": [],
   "source": [
    "# 格式化用于输出\n",
    "sample_result = sample_layer.map(str_form)\n",
    "\n",
    "# 抽样样本保存到 hdfs\n",
    "sample_result.saveAsTextFile(\"hdfs://localhost:9000/user/bdlab/lab1/data_sample.txt\")"
   ]
  },
  {
   "cell_type": "markdown",
   "metadata": {},
   "source": [
    "# 2.数据过滤"
   ]
  },
  {
   "cell_type": "code",
   "execution_count": 40,
   "metadata": {
    "collapsed": true
   },
   "outputs": [
    {
     "data": {
      "text/plain": [
       "[Row(review_id='144552912', longitude=9.349848747253418, latitude=56.740875244140625, altitude=17.052772521972656, review_date='2011/06/27', temperature='18.5℃', rating=83.91000366210938, user_id='38267', user_birthday='1974-06-08', user_nationality='Switzerland', user_career='programmer', user_income=5042.0),\n",
       " Row(review_id='125830646', longitude=9.975799560546875, latitude=56.607295989990234, altitude=54.140926361083984, review_date='2011-08-04', temperature='52.3℉', rating=88.77999877929688, user_id='14661', user_birthday='1980-11-20', user_nationality='Italy', user_career='programmer', user_income=2128.0)]"
      ]
     },
     "execution_count": 40,
     "metadata": {},
     "output_type": "execute_result"
    }
   ],
   "source": [
    "sample_layer.take(2)"
   ]
  },
  {
   "cell_type": "markdown",
   "metadata": {},
   "source": [
    "#### 定义上下界"
   ]
  },
  {
   "cell_type": "markdown",
   "metadata": {},
   "source": [
    "获得rating上下界"
   ]
  },
  {
   "cell_type": "code",
   "execution_count": 10,
   "metadata": {},
   "outputs": [],
   "source": [
    "# 获得 rating\n",
    "rate_sample = sample_layer.map(lambda x:x['rating']).collect()\n",
    "# 过滤缺失值\n",
    "rate_sample = list(filter(lambda x: isinstance(x,float),rate_sample))\n",
    "# 排序\n",
    "rate_sample.sort()"
   ]
  },
  {
   "cell_type": "code",
   "execution_count": 11,
   "metadata": {},
   "outputs": [
    {
     "name": "stdout",
     "output_type": "stream",
     "text": [
      "59.63999938964844 95.94999694824219\n"
     ]
    }
   ],
   "source": [
    "rate_size = len(rate_sample)\n",
    "rate_min = rate_sample[ int(rate_size*0.01) ]\n",
    "rate_max = rate_sample[ int(rate_size*0.99)]\n",
    "print(rate_min,rate_max)"
   ]
  },
  {
   "cell_type": "markdown",
   "metadata": {},
   "source": [
    "longitude,latitude 界限"
   ]
  },
  {
   "cell_type": "code",
   "execution_count": 12,
   "metadata": {},
   "outputs": [],
   "source": [
    "longitude_min = 8.1461259\n",
    "longitude_max = 11.1993265\n",
    "latitude_min = 56.5824856\n",
    "latitude_max = 57.750511"
   ]
  },
  {
   "cell_type": "markdown",
   "metadata": {},
   "source": [
    "### 过滤总体数据"
   ]
  },
  {
   "cell_type": "code",
   "execution_count": 13,
   "metadata": {},
   "outputs": [],
   "source": [
    "def llr_filter(item):\n",
    "    \"\"\"\n",
    "    filter item based value of longitude, latitude and rating\n",
    "    \"\"\"\n",
    "    if item['longitude']<longitude_min or item['longitude']>longitude_max:\n",
    "        return False\n",
    "    if item['latitude']<latitude_min or item['latitude']>latitude_max:\n",
    "        return False\n",
    "    \n",
    "    if not isinstance(item['rating'],float):\n",
    "        # 缺失值保留,后续进行填充\n",
    "        return True\n",
    "    if item['rating']<rate_min or item['rating']>rate_max:\n",
    "        return False\n",
    "    \n",
    "    return True"
   ]
  },
  {
   "cell_type": "code",
   "execution_count": 14,
   "metadata": {},
   "outputs": [],
   "source": [
    "data_filtered = data_rdd.filter(llr_filter)"
   ]
  },
  {
   "cell_type": "code",
   "execution_count": 213,
   "metadata": {},
   "outputs": [
    {
     "data": {
      "text/plain": [
       "[Row(review_id='144552912', longitude=9.349848747253418, latitude=56.740875244140625, altitude=17.052772521972656, review_date='2011/06/27', temperature='18.5℃', rating=83.91000366210938, user_id='38267', user_birthday='1974-06-08', user_nationality='Switzerland', user_career='programmer', user_income=5042.0),\n",
       " Row(review_id='144552912', longitude=9.350188255310059, latitude=56.74068069458008, altitude=17.614839553833008, review_date='2016-10-08', temperature='37.8℉', rating=78.80000305175781, user_id='1205', user_birthday='1991-04-14', user_nationality='Italy', user_career='teacher', user_income=1705.0)]"
      ]
     },
     "execution_count": 213,
     "metadata": {},
     "output_type": "execute_result"
    }
   ],
   "source": [
    "data_rdd.take(2)"
   ]
  },
  {
   "cell_type": "code",
   "execution_count": 15,
   "metadata": {},
   "outputs": [
    {
     "data": {
      "text/plain": [
       "4686718"
      ]
     },
     "execution_count": 15,
     "metadata": {},
     "output_type": "execute_result"
    }
   ],
   "source": [
    "data_filtered.count()"
   ]
  },
  {
   "cell_type": "code",
   "execution_count": 132,
   "metadata": {},
   "outputs": [],
   "source": [
    "# 格式化用于输出\n",
    "data_filtered_result = data_filtered.map(str_form)\n",
    "\n",
    "# 过滤结果保存到 hdfs\n",
    "data_filtered_result.saveAsTextFile(\"hdfs://localhost:9000/user/bdlab/lab1/data_filtered.txt\")"
   ]
  },
  {
   "cell_type": "markdown",
   "metadata": {},
   "source": [
    "# 3.数据标准化和归一化\n",
    "# 4.数据清洗\n",
    "\n"
   ]
  },
  {
   "cell_type": "markdown",
   "metadata": {},
   "source": [
    "### 逻辑回归模型训练：缺失值预测"
   ]
  },
  {
   "cell_type": "code",
   "execution_count": 16,
   "metadata": {},
   "outputs": [],
   "source": [
    "from sklearn.linear_model import Lasso\n",
    "import pandas as pd\n",
    "import numpy as np"
   ]
  },
  {
   "cell_type": "code",
   "execution_count": 17,
   "metadata": {},
   "outputs": [
    {
     "data": {
      "text/plain": [
       "[Row(review_id='144552912', longitude=9.349848747253418, latitude=56.740875244140625, altitude=17.052772521972656, review_date='2011/06/27', temperature='18.5℃', rating=83.91000366210938, user_id='38267', user_birthday='1974-06-08', user_nationality='Switzerland', user_career='programmer', user_income=5042.0),\n",
       " Row(review_id='125830646', longitude=9.975799560546875, latitude=56.607295989990234, altitude=54.140926361083984, review_date='2011-08-04', temperature='52.3℉', rating=88.77999877929688, user_id='14661', user_birthday='1980-11-20', user_nationality='Italy', user_career='programmer', user_income=2128.0)]"
      ]
     },
     "execution_count": 17,
     "metadata": {},
     "output_type": "execute_result"
    }
   ],
   "source": [
    "model_rdd = sample_layer.map(lambda x:x)\n",
    "model_rdd.take(2)"
   ]
  },
  {
   "cell_type": "code",
   "execution_count": 18,
   "metadata": {},
   "outputs": [],
   "source": [
    "# 过滤奇异值和缺失值，作为训练数据\n",
    "def model_llr_filter(item):\n",
    "    if item['longitude']<longitude_min or item['longitude']>longitude_max:\n",
    "        return False\n",
    "    if item['latitude']<latitude_min or item['latitude']>latitude_max:\n",
    "        return False\n",
    "    if not isinstance(item['rating'],float):\n",
    "        return False\n",
    "    if item['rating']<rate_min or item['rating']>rate_max:\n",
    "        return False\n",
    "    if not isinstance(item['user_income'],float):\n",
    "        return False\n",
    "    return True"
   ]
  },
  {
   "cell_type": "markdown",
   "metadata": {},
   "source": [
    "转换DataFrame"
   ]
  },
  {
   "cell_type": "code",
   "execution_count": 19,
   "metadata": {},
   "outputs": [],
   "source": [
    "model_rdd = model_rdd.filter(model_llr_filter)\n",
    "model_data_df = spark.createDataFrame(model_rdd,schema=schema)\n",
    "model_data_pd = model_data_df.toPandas()"
   ]
  },
  {
   "cell_type": "markdown",
   "metadata": {},
   "source": [
    "rating 预测模型"
   ]
  },
  {
   "cell_type": "code",
   "execution_count": 20,
   "metadata": {},
   "outputs": [
    {
     "data": {
      "text/plain": [
       "Lasso(alpha=1.0, copy_X=True, fit_intercept=True, max_iter=1000,\n",
       "   normalize=False, positive=False, precompute=False, random_state=None,\n",
       "   selection='cyclic', tol=0.0001, warm_start=False)"
      ]
     },
     "execution_count": 20,
     "metadata": {},
     "output_type": "execute_result"
    }
   ],
   "source": [
    "rating_X = model_data_pd[['user_income','longitude','latitude','altitude']].values\n",
    "rating_y = model_data_pd['rating'].values\n",
    "rating_model = Lasso()\n",
    "rating_model.fit(rating_X,rating_y)"
   ]
  },
  {
   "cell_type": "markdown",
   "metadata": {},
   "source": [
    "income 预测模型"
   ]
  },
  {
   "cell_type": "code",
   "execution_count": 21,
   "metadata": {},
   "outputs": [],
   "source": [
    "from sklearn.ensemble import RandomForestRegressor\n",
    "from sklearn.preprocessing import LabelEncoder"
   ]
  },
  {
   "cell_type": "code",
   "execution_count": 22,
   "metadata": {},
   "outputs": [],
   "source": [
    "# career 编码\n",
    "career_encoder = LabelEncoder()\n",
    "model_data_pd['user_career'] = career_encoder.fit_transform(model_data_pd['user_career'])\n",
    "\n",
    "# nationality 编码\n",
    "nationality_encoder = LabelEncoder()\n",
    "model_data_pd['user_nationality'] = nationality_encoder.fit_transform(model_data_pd['user_nationality'])"
   ]
  },
  {
   "cell_type": "code",
   "execution_count": 23,
   "metadata": {},
   "outputs": [
    {
     "data": {
      "text/plain": [
       "RandomForestRegressor(bootstrap=True, criterion='mse', max_depth=None,\n",
       "           max_features='auto', max_leaf_nodes=None,\n",
       "           min_impurity_decrease=0.0, min_impurity_split=None,\n",
       "           min_samples_leaf=1, min_samples_split=2,\n",
       "           min_weight_fraction_leaf=0.0, n_estimators=10, n_jobs=1,\n",
       "           oob_score=False, random_state=None, verbose=0, warm_start=False)"
      ]
     },
     "execution_count": 23,
     "metadata": {},
     "output_type": "execute_result"
    }
   ],
   "source": [
    "income_X = model_data_pd[['user_nationality','user_career']].values\n",
    "income_y = model_data_pd['user_income'].values\n",
    "income_model = RandomForestRegressor()\n",
    "income_model.fit(income_X,income_y)"
   ]
  },
  {
   "cell_type": "code",
   "execution_count": 24,
   "metadata": {},
   "outputs": [],
   "source": [
    "def income_predict(nationality,career):\n",
    "    nationality_code = nationality_encoder.transform([nationality])[0]\n",
    "    career_code = career_encoder.transform([career])[0]\n",
    "    income = income_model.predict([[nationality_code,career_code]])[0]\n",
    "    return round(income,1)"
   ]
  },
  {
   "cell_type": "code",
   "execution_count": 25,
   "metadata": {},
   "outputs": [
    {
     "data": {
      "text/plain": [
       "1694.2"
      ]
     },
     "execution_count": 25,
     "metadata": {},
     "output_type": "execute_result"
    }
   ],
   "source": [
    "income_predict('Italy','teacher')"
   ]
  },
  {
   "cell_type": "markdown",
   "metadata": {},
   "source": [
    "日期处理"
   ]
  },
  {
   "cell_type": "code",
   "execution_count": 26,
   "metadata": {},
   "outputs": [],
   "source": [
    "from dateutil.parser import  parse"
   ]
  },
  {
   "cell_type": "code",
   "execution_count": 27,
   "metadata": {},
   "outputs": [
    {
     "data": {
      "text/plain": [
       "2335.166593743931"
      ]
     },
     "execution_count": 27,
     "metadata": {},
     "output_type": "execute_result"
    }
   ],
   "source": [
    "income_model.predict([[0,1]])[0]"
   ]
  },
  {
   "cell_type": "code",
   "execution_count": 112,
   "metadata": {},
   "outputs": [],
   "source": [
    "# 日期转换\n",
    "def date_parser(date):\n",
    "    try:\n",
    "        t = parse(date)\n",
    "        return str(t.date())\n",
    "    except ValueError:\n",
    "        # 处理 February 29 特殊值\n",
    "        return date[-4:]+\"-02-29\"\n",
    "\n",
    "# 日期规范为 yyyy-mm-dd\n",
    "def date_std(item):\n",
    "    item['user_birthday'] = date_parser(item['user_birthday'])\n",
    "    item['review_date'] = date_parser(item['review_date'])\n",
    "    return item\n",
    "\n",
    "# 归一化 rating\n",
    "rating_range = rate_max - rate_min\n",
    "def rating_nor(rating):\n",
    "    if rating < rate_min:\n",
    "        # 预测值过小\n",
    "        return 0.0\n",
    "    if rating > rate_max:\n",
    "        # 预测值过大\n",
    "        return 1.0\n",
    "    return (rating - rate_min) / rating_range\n",
    "\n",
    "# 温度单位标准化，统一摄氏度\n",
    "def temp_cen(temp):\n",
    "    if '℃' in temp:\n",
    "        return temp\n",
    "    temp = float(temp[:-1])\n",
    "    temp = round((temp-32)/1.8,1)\n",
    "    return str(temp)+'℃'\n",
    "\n",
    "def data_std_dict_mapper(item):\n",
    "    # 规范日期\n",
    "    item = date_std(item)\n",
    "    \n",
    "    # 统一温度\n",
    "    item['temperature'] = temp_cen(item['temperature'])\n",
    "    \n",
    "    # income 缺失值填充\n",
    "    if not isinstance(item['user_income'],float):\n",
    "        item['user_income'] = income_predict(item['user_nationality'],item['user_career'])\n",
    "    \n",
    "    # rating 缺失值填充\n",
    "    if not isinstance(item['rating'],float):\n",
    "        result = rating_model.predict([[item['user_income'],item['longitude'],item['latitude'],item['altitude']]])\n",
    "        item['rating'] = rating_nor(result[0])\n",
    "    else: # rating 归一化\n",
    "        item['rating'] = rating_nor(item['rating'])\n",
    "        \n",
    "    return item\n",
    "\n",
    "def data_std_mapper(item):\n",
    "    item = item.asDict()\n",
    "    return data_std_dict_mapper(item)"
   ]
  },
  {
   "cell_type": "code",
   "execution_count": 106,
   "metadata": {},
   "outputs": [],
   "source": [
    "data_std = data_filtered.map(data_std_mapper)"
   ]
  },
  {
   "cell_type": "code",
   "execution_count": 107,
   "metadata": {},
   "outputs": [],
   "source": [
    "data_std_result = data_std.map(lambda x:'|'.join([str(_) for _ in x.values()]))"
   ]
  },
  {
   "cell_type": "code",
   "execution_count": 115,
   "metadata": {
    "collapsed": true
   },
   "outputs": [
    {
     "data": {
      "text/plain": [
       "['144552912|9.349848747253418|56.740875244140625|17.052772521972656|2011-06-27|18.5℃|0.6684110686952327|38267|1974-06-08|Switzerland|programmer|5042.0',\n",
       " '144552912|9.350188255310059|56.74068069458008|17.614839553833008|2016-10-08|3.2℃|0.5276784618668926|1205|1991-04-14|Italy|teacher|1705.0',\n",
       " '144552912|9.35054874420166|56.740543365478516|18.08353614807129|2010-05-19|14.0℃|0.5808318751124133|28343|2019-05-25|Luxembourg|farmer|3208.0',\n",
       " '144552912|9.35080623626709|56.74048614501953|18.279464721679688|2014-10-19|2.6℃|0.5750481591116535|36251|2019-08-25|Belgium|programmer|2565.0',\n",
       " '144552912|9.351053237915039|56.74048614501953|18.4229736328125|2017-12-10|1.2℃|0.5028918580003799|27133|1992-03-25|Belgium|doctor|2455.0',\n",
       " '144552912|9.35147476196289|56.740501403808594|19.124889373779297|2018-12-01|-3.2℃|0.6386671440554175|25448|2019-07-21|France|Manager|2943.0',\n",
       " '144552912|9.352127075195312|56.74055862426758|19.590593338012695|2019-04-18|3.4℃|0.6414211644587436|34087|1991-01-23|Germany|Manager|2984.0',\n",
       " '144552912|9.35241985321045|56.740596771240234|19.621763229370117|2016-01-09|-0.8℃|0.6573947769636395|18577|2019-04-21|Denmark|programmer|3951.0',\n",
       " '144552912|9.352583885192871|56.74062728881836|19.659931182861328|2014-12-15|-1.6℃|0.5585238265734077|25939|1972-11-28|Holland|farmer|2208.0',\n",
       " '144552912|9.352725982666016|56.74066162109375|19.49066925048828|2013-11-05|-8.1℃|0.4987607223362464|15206|1987-12-22|Italy|accountant|1788.0']"
      ]
     },
     "execution_count": 115,
     "metadata": {},
     "output_type": "execute_result"
    }
   ],
   "source": [
    "data_std_result.take(10)"
   ]
  },
  {
   "cell_type": "markdown",
   "metadata": {},
   "source": [
    "导出"
   ]
  },
  {
   "cell_type": "code",
   "execution_count": 123,
   "metadata": {},
   "outputs": [],
   "source": [
    "data_std_result.saveAsTextFile(\"hdfs://localhost:9000/user/bdlab/lab1/data_preprocessed.txt\")"
   ]
  },
  {
   "cell_type": "code",
   "execution_count": 109,
   "metadata": {},
   "outputs": [
    {
     "data": {
      "text/plain": [
       "[Row(review_id='144552912', longitude=9.349848747253418, latitude=56.740875244140625, altitude=17.052772521972656, review_date='2011/06/27', temperature='18.5℃', rating=83.91000366210938, user_id='38267', user_birthday='1974-06-08', user_nationality='Switzerland', user_career='programmer', user_income=5042.0),\n",
       " Row(review_id='125830646', longitude=9.975799560546875, latitude=56.607295989990234, altitude=54.140926361083984, review_date='2011-08-04', temperature='52.3℉', rating=88.77999877929688, user_id='14661', user_birthday='1980-11-20', user_nationality='Italy', user_career='programmer', user_income=2128.0)]"
      ]
     },
     "execution_count": 109,
     "metadata": {},
     "output_type": "execute_result"
    }
   ],
   "source": [
    "sample_layer.take(2)"
   ]
  },
  {
   "cell_type": "code",
   "execution_count": 110,
   "metadata": {},
   "outputs": [
    {
     "data": {
      "text/plain": [
       "Row(review_id='26218810', longitude=9.98774242401123, latitude=56.99723434448242, altitude=10.679211616516113, review_date='2010-02-27', temperature='-2.1℃', rating=81.68000030517578, user_id='9308', user_birthday='1986/11/09', user_nationality='Austria', user_career='programmer', user_income=2681.0)"
      ]
     },
     "execution_count": 110,
     "metadata": {},
     "output_type": "execute_result"
    }
   ],
   "source": [
    "rowC = sample_layer_result[0][1][2]\n",
    "rowC"
   ]
  },
  {
   "cell_type": "code",
   "execution_count": 42,
   "metadata": {},
   "outputs": [
    {
     "data": {
      "text/plain": [
       "Row(review_id='133175086', longitude=8.591045379638672, latitude=57.119110107421875, altitude=2.2723560333251953, review_date='2015/02/16', temperature='31.9℉', rating=64.83000183105469, user_id='2795', user_birthday='1978/11/27', user_nationality='Germany', user_career='programmer', user_income=2921.0)"
      ]
     },
     "execution_count": 42,
     "metadata": {},
     "output_type": "execute_result"
    }
   ],
   "source": [
    "rowF = sample_layer_result[0][1][3]\n",
    "rowF"
   ]
  },
  {
   "cell_type": "code",
   "execution_count": 43,
   "metadata": {},
   "outputs": [
    {
     "data": {
      "text/plain": [
       "'31.9'"
      ]
     },
     "execution_count": 43,
     "metadata": {},
     "output_type": "execute_result"
    }
   ],
   "source": [
    "rowfdict = rowF.asDict()\n",
    "rowfdict['temperature'][:-1]"
   ]
  },
  {
   "cell_type": "code",
   "execution_count": 119,
   "metadata": {},
   "outputs": [
    {
     "data": {
      "text/plain": [
       "{'review_id': '133175086',\n",
       " 'longitude': 8.591045379638672,\n",
       " 'latitude': 57.119110107421875,\n",
       " 'altitude': 2.2723560333251953,\n",
       " 'review_date': '2015/02/16',\n",
       " 'temperature': '31.9℉',\n",
       " 'rating': 64.83000183105469,\n",
       " 'user_id': '2795',\n",
       " 'user_birthday': '1978/11/27',\n",
       " 'user_nationality': 'Germany',\n",
       " 'user_career': 'programmer',\n",
       " 'user_income': 2921.0}"
      ]
     },
     "execution_count": 119,
     "metadata": {},
     "output_type": "execute_result"
    }
   ],
   "source": [
    "row_test = rowF.asDict()\n",
    "row_test"
   ]
  },
  {
   "cell_type": "code",
   "execution_count": 121,
   "metadata": {},
   "outputs": [
    {
     "data": {
      "text/plain": [
       "{'review_id': '133175086',\n",
       " 'longitude': 8.591045379638672,\n",
       " 'latitude': 57.119110107421875,\n",
       " 'altitude': 2.2723560333251953,\n",
       " 'review_date': '2015/02/16',\n",
       " 'temperature': '31.9℉',\n",
       " 'rating': None,\n",
       " 'user_id': '2795',\n",
       " 'user_birthday': '1978/11/27',\n",
       " 'user_nationality': 'Germany',\n",
       " 'user_career': 'programmer',\n",
       " 'user_income': None}"
      ]
     },
     "execution_count": 121,
     "metadata": {},
     "output_type": "execute_result"
    }
   ],
   "source": [
    "row_test['rating'] = None\n",
    "row_test['user_income'] = None\n",
    "row_test"
   ]
  },
  {
   "cell_type": "code",
   "execution_count": 122,
   "metadata": {},
   "outputs": [
    {
     "data": {
      "text/plain": [
       "{'review_id': '133175086',\n",
       " 'longitude': 8.591045379638672,\n",
       " 'latitude': 57.119110107421875,\n",
       " 'altitude': 2.2723560333251953,\n",
       " 'review_date': '2015-02-16',\n",
       " 'temperature': '-0.1℃',\n",
       " 'rating': 0.4009515416296623,\n",
       " 'user_id': '2795',\n",
       " 'user_birthday': '1978-11-27',\n",
       " 'user_nationality': 'Germany',\n",
       " 'user_career': 'programmer',\n",
       " 'user_income': 2922.2}"
      ]
     },
     "execution_count": 122,
     "metadata": {},
     "output_type": "execute_result"
    }
   ],
   "source": [
    "data_std_dict_mapper(row_test)"
   ]
  },
  {
   "cell_type": "code",
   "execution_count": null,
   "metadata": {},
   "outputs": [],
   "source": []
  }
 ],
 "metadata": {
  "kernelspec": {
   "display_name": "Python 3",
   "language": "python",
   "name": "python3"
  },
  "language_info": {
   "codemirror_mode": {
    "name": "ipython",
    "version": 3
   },
   "file_extension": ".py",
   "mimetype": "text/x-python",
   "name": "python",
   "nbconvert_exporter": "python",
   "pygments_lexer": "ipython3",
   "version": "3.6.5"
  }
 },
 "nbformat": 4,
 "nbformat_minor": 2
}
