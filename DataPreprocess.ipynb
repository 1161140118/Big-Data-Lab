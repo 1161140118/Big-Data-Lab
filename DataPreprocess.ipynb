{
 "cells": [
  {
   "cell_type": "markdown",
   "metadata": {},
   "source": [
    "## 数据获取"
   ]
  },
  {
   "cell_type": "markdown",
   "metadata": {},
   "source": [
    "初始化 Spark"
   ]
  },
  {
   "cell_type": "code",
   "execution_count": 1,
   "metadata": {},
   "outputs": [],
   "source": [
    "import findspark\n",
    "findspark.init()\n",
    "\n",
    "from pyspark.sql import SparkSession # SparkSession 是Spark 2.0版本的新入口\n",
    "spark = SparkSession.builder.master('local').getOrCreate()"
   ]
  },
  {
   "cell_type": "markdown",
   "metadata": {},
   "source": [
    "定义schema"
   ]
  },
  {
   "cell_type": "code",
   "execution_count": 2,
   "metadata": {},
   "outputs": [],
   "source": [
    "from pyspark.sql.types import StructType, StructField, IntegerType, StringType, FloatType\n",
    "\n",
    "schema= StructType([\n",
    "    StructField(\"review_id\",StringType(),False),\n",
    "    StructField(\"longitude\",FloatType(),False),\n",
    "    StructField(\"latitude\",FloatType(),False),\n",
    "    StructField(\"altitude\",FloatType(),False),\n",
    "    StructField(\"review_date\",StringType(),False),\n",
    "    StructField(\"temperature\",StringType(),False),\n",
    "    StructField(\"rating\",FloatType(),False),\n",
    "    StructField(\"user_id\",StringType(),False),\n",
    "    StructField(\"user_birthday\",StringType(),False),\n",
    "    StructField(\"user_nationality\",StringType(),False),\n",
    "    StructField(\"user_career\",StringType(),False),\n",
    "    StructField(\"user_income\",FloatType(),False),\n",
    "])"
   ]
  },
  {
   "cell_type": "markdown",
   "metadata": {},
   "source": [
    "从hdfs加载数据，获得dataframe"
   ]
  },
  {
   "cell_type": "code",
   "execution_count": 3,
   "metadata": {},
   "outputs": [],
   "source": [
    "data = spark.read.csv(path=\"hdfs://localhost:9000/user/bdlab/lab1/data_all.txt.gz\",header=None,schema=schema,sep='|')"
   ]
  },
  {
   "cell_type": "code",
   "execution_count": 4,
   "metadata": {
    "scrolled": true
   },
   "outputs": [
    {
     "name": "stdout",
     "output_type": "stream",
     "text": [
      "+---------+---------+---------+---------+-----------+-----------+------+-------+--------------+----------------+-----------+-----------+\n",
      "|review_id|longitude| latitude| altitude|review_date|temperature|rating|user_id| user_birthday|user_nationality|user_career|user_income|\n",
      "+---------+---------+---------+---------+-----------+-----------+------+-------+--------------+----------------+-----------+-----------+\n",
      "|144552912| 9.349849|56.740875|17.052773| 2011/06/27|      18.5℃| 83.91|  38267|    1974-06-08|     Switzerland| programmer|     5042.0|\n",
      "|144552912| 9.350188| 56.74068| 17.61484| 2016-10-08|      37.8℉|  78.8|   1205|    1991-04-14|           Italy|    teacher|     1705.0|\n",
      "|144552912| 9.350549|56.740543|18.083536| 2010/05/19|      14.0℃| 80.73|  28343|   May 25,1989|      Luxembourg|     farmer|     3208.0|\n",
      "|144552912| 9.350806|56.740486|18.279465| 2014/10/19|       2.6℃| 80.52|  36251|August 25,1992|         Belgium| programmer|     2565.0|\n",
      "+---------+---------+---------+---------+-----------+-----------+------+-------+--------------+----------------+-----------+-----------+\n",
      "only showing top 4 rows\n",
      "\n"
     ]
    }
   ],
   "source": [
    "data.show(4)"
   ]
  },
  {
   "cell_type": "code",
   "execution_count": 5,
   "metadata": {},
   "outputs": [
    {
     "data": {
      "text/plain": [
       "DataFrame[summary: string, review_id: string, longitude: string, latitude: string, altitude: string, review_date: string, temperature: string, rating: string, user_id: string, user_birthday: string, user_nationality: string, user_career: string, user_income: string]"
      ]
     },
     "execution_count": 5,
     "metadata": {},
     "output_type": "execute_result"
    }
   ],
   "source": [
    "data.describe()"
   ]
  },
  {
   "cell_type": "markdown",
   "metadata": {},
   "source": [
    "## 分层抽样"
   ]
  },
  {
   "cell_type": "code",
   "execution_count": null,
   "metadata": {},
   "outputs": [],
   "source": []
  },
  {
   "cell_type": "code",
   "execution_count": null,
   "metadata": {},
   "outputs": [],
   "source": []
  },
  {
   "cell_type": "code",
   "execution_count": null,
   "metadata": {},
   "outputs": [],
   "source": []
  }
 ],
 "metadata": {
  "kernelspec": {
   "display_name": "Python 3",
   "language": "python",
   "name": "python3"
  },
  "language_info": {
   "codemirror_mode": {
    "name": "ipython",
    "version": 3
   },
   "file_extension": ".py",
   "mimetype": "text/x-python",
   "name": "python",
   "nbconvert_exporter": "python",
   "pygments_lexer": "ipython3",
   "version": "3.6.5"
  }
 },
 "nbformat": 4,
 "nbformat_minor": 2
}
