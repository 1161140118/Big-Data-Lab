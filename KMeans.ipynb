{
 "cells": [
  {
   "cell_type": "markdown",
   "metadata": {},
   "source": [
    "初始化环境"
   ]
  },
  {
   "cell_type": "code",
   "execution_count": 1,
   "metadata": {},
   "outputs": [],
   "source": [
    "import findspark\n",
    "findspark.init()\n",
    "\n",
    "from pyspark.sql import SparkSession # SparkSession 是Spark 2.0版本的新入口\n",
    "spark = SparkSession.builder.master('local').getOrCreate()"
   ]
  },
  {
   "cell_type": "code",
   "execution_count": 2,
   "metadata": {},
   "outputs": [],
   "source": [
    "row_data = spark.read.csv(path=\"hdfs://localhost:9000/user/bdlab/lab2/USCensus1990.data.txt\",header=True,inferSchema=True)"
   ]
  },
  {
   "cell_type": "code",
   "execution_count": 3,
   "metadata": {},
   "outputs": [
    {
     "data": {
      "text/plain": [
       "[Row(caseid=10000, dAge=5, dAncstry1=0, dAncstry2=1, iAvail=0, iCitizen=0, iClass=5, dDepart=3, iDisabl1=2, iDisabl2=2, iEnglish=1, iFeb55=0, iFertil=1, dHispanic=0, dHour89=4, dHours=3, iImmigr=0, dIncome1=2, dIncome2=0, dIncome3=0, dIncome4=1, dIncome5=0, dIncome6=0, dIncome7=0, dIncome8=0, dIndustry=10, iKorean=0, iLang1=1, iLooking=0, iMarital=1, iMay75880=0, iMeans=1, iMilitary=4, iMobility=2, iMobillim=2, dOccup=3, iOthrserv=0, iPerscare=2, dPOB=0, dPoverty=2, dPwgt1=1, iRagechld=4, dRearning=3, iRelat1=0, iRelat2=0, iRemplpar=0, iRiders=3, iRlabor=1, iRownchld=0, dRpincome=3, iRPOB=22, iRrelchld=0, iRspouse=3, iRvetserv=0, iSchool=1, iSept80=0, iSex=1, iSubfam1=0, iSubfam2=0, iTmpabsnt=0, dTravtime=5, iVietnam=0, dWeek89=2, iWork89=1, iWorklwk=1, iWWII=0, iYearsch=11, iYearwrk=1, dYrsserv=0)]"
      ]
     },
     "execution_count": 3,
     "metadata": {},
     "output_type": "execute_result"
    }
   ],
   "source": [
    "row_data.take(1)"
   ]
  },
  {
   "cell_type": "code",
   "execution_count": 4,
   "metadata": {},
   "outputs": [
    {
     "data": {
      "text/plain": [
       "2458285"
      ]
     },
     "execution_count": 4,
     "metadata": {},
     "output_type": "execute_result"
    }
   ],
   "source": [
    "row_data.count()"
   ]
  },
  {
   "cell_type": "code",
   "execution_count": 5,
   "metadata": {},
   "outputs": [],
   "source": [
    "data = row_data.rdd"
   ]
  },
  {
   "cell_type": "markdown",
   "metadata": {},
   "source": [
    "# 抽样测试\n",
    "* 选取最佳k值\n",
    "* 初始化聚类中心"
   ]
  },
  {
   "cell_type": "code",
   "execution_count": 6,
   "metadata": {},
   "outputs": [],
   "source": [
    "import pandas as pd\n",
    "import numpy as np\n",
    "import matplotlib.pyplot as plt"
   ]
  },
  {
   "cell_type": "code",
   "execution_count": 7,
   "metadata": {},
   "outputs": [],
   "source": [
    "sample_data = row_data.sample(0.01) # 抽样 1%\n",
    "sample_pd = sample_data.toPandas()"
   ]
  },
  {
   "cell_type": "code",
   "execution_count": 8,
   "metadata": {},
   "outputs": [],
   "source": [
    "sample_pd = sample_pd.iloc[:,1:].values # 第一列无用"
   ]
  },
  {
   "cell_type": "markdown",
   "metadata": {},
   "source": [
    "样本数据标准化"
   ]
  },
  {
   "cell_type": "code",
   "execution_count": 47,
   "metadata": {},
   "outputs": [],
   "source": [
    "from sklearn.preprocessing import StandardScaler\n",
    "sample_pd = StandardScaler().fit_transform(sample_pd)"
   ]
  },
  {
   "cell_type": "code",
   "execution_count": 48,
   "metadata": {},
   "outputs": [],
   "source": [
    "# 保存抽样\n",
    "np.savetxt(\"sample_std_array.txt\",sample_pd)"
   ]
  },
  {
   "cell_type": "code",
   "execution_count": 9,
   "metadata": {},
   "outputs": [],
   "source": [
    "# 加载抽样\n",
    "sample_pd = np.loadtxt(\"sample_std_array.txt\")"
   ]
  },
  {
   "cell_type": "code",
   "execution_count": 49,
   "metadata": {},
   "outputs": [
    {
     "data": {
      "text/plain": [
       "(24628, 68)"
      ]
     },
     "execution_count": 49,
     "metadata": {},
     "output_type": "execute_result"
    }
   ],
   "source": [
    "sample_pd.shape"
   ]
  },
  {
   "cell_type": "code",
   "execution_count": 10,
   "metadata": {},
   "outputs": [],
   "source": [
    "from sklearn.cluster import KMeans"
   ]
  },
  {
   "cell_type": "code",
   "execution_count": 51,
   "metadata": {},
   "outputs": [
    {
     "name": "stdout",
     "output_type": "stream",
     "text": [
      "k=1, SSE=1674704.0000000002\n",
      "k=2, SSE=1328927.7399816418\n",
      "k=3, SSE=1135042.307368246\n",
      "k=4, SSE=1067560.372383153\n",
      "k=5, SSE=1018398.7434226715\n",
      "k=6, SSE=971948.8169754281\n",
      "k=7, SSE=943190.3577651557\n",
      "k=8, SSE=923002.3750831345\n",
      "k=9, SSE=881972.0964427008\n",
      "k=10, SSE=870906.5903082998\n",
      "k=11, SSE=857028.3218245438\n",
      "k=12, SSE=824949.4245692719\n"
     ]
    }
   ],
   "source": [
    "SSE = []  # 存放每次结果的误差平方和\n",
    "for k in range(1,13):\n",
    "    estimator = KMeans(n_clusters=k)  # 构造聚类器\n",
    "    estimator.fit(sample_pd)\n",
    "    SSE.append(estimator.inertia_)\n",
    "    print(\"k={}, SSE={}\".format(k,SSE[-1]))"
   ]
  },
  {
   "cell_type": "code",
   "execution_count": 52,
   "metadata": {},
   "outputs": [
    {
     "data": {
      "text/plain": [
       "[<matplotlib.lines.Line2D at 0x7f7e43dd3048>]"
      ]
     },
     "execution_count": 52,
     "metadata": {},
     "output_type": "execute_result"
    },
    {
     "data": {
      "image/png": "[encoded data removed]",
      "text/plain": [
       "<Figure size 432x288 with 1 Axes>"
      ]
     },
     "metadata": {},
     "output_type": "display_data"
    }
   ],
   "source": [
    "plt.xlabel(\"k\")\n",
    "plt.ylabel(\"SSE\")\n",
    "plt.plot(range(1,13),SSE,marker='o')"
   ]
  },
  {
   "cell_type": "markdown",
   "metadata": {},
   "source": [
    "                根据手肘法,选定k=3或4"
   ]
  },
  {
   "cell_type": "code",
   "execution_count": 11,
   "metadata": {},
   "outputs": [],
   "source": [
    "estimator = KMeans(n_clusters=3)  # 构造聚类器\n",
    "estimator.fit(sample_pd)\n",
    "km_result = estimator.labels_\n",
    "km_center = estimator.cluster_centers_ # 作为整体数据初始聚类中心"
   ]
  },
  {
   "cell_type": "markdown",
   "metadata": {},
   "source": [
    "PCA降维,绘图"
   ]
  },
  {
   "cell_type": "code",
   "execution_count": 54,
   "metadata": {},
   "outputs": [],
   "source": [
    "from sklearn.decomposition import PCA\n",
    "pca = PCA(n_components=2)\n",
    "sample_pca = pca.fit_transform(sample_pd)"
   ]
  },
  {
   "cell_type": "code",
   "execution_count": 59,
   "metadata": {},
   "outputs": [
    {
     "data": {
      "image/png": "[encoded data removed]",
      "text/plain": [
       "<Figure size 432x288 with 1 Axes>"
      ]
     },
     "metadata": {},
     "output_type": "display_data"
    }
   ],
   "source": [
    "plt.scatter(sample_pca[:,0],sample_pca[:,1],c=km_result)\n",
    "plt.show()"
   ]
  },
  {
   "cell_type": "markdown",
   "metadata": {},
   "source": [
    "            经测试 k=3 有较好分类效果"
   ]
  },
  {
   "cell_type": "markdown",
   "metadata": {},
   "source": [
    "\n",
    "\n",
    "# 聚类"
   ]
  },
  {
   "cell_type": "markdown",
   "metadata": {},
   "source": [
    "k = 期望簇数\n",
    "\n",
    "delta = 可接受的收敛误差\n",
    "\n",
    "max_iter = 最大迭代次数\n",
    "\n",
    "data = 输入数据\n",
    "\n",
    "\n",
    "1. 初始化质心\n",
    "\n",
    "2. map：对每个向量，计算当前向量到各中心的距离，更新最近的中心\n",
    "    \n",
    "    输入：向量\n",
    "    \n",
    "    输出：（最近的中心，向量）\n",
    "\n",
    "3. reduce：根据所有map输出，重新计算所有簇的平均值，重新创建质心\n",
    "    \n",
    "    输入：iterable 向量\n",
    "    \n",
    "    输出：key.id，新质心= avg(list向量)\n",
    "    \n",
    "4. change:比较新旧质心的变化，若变化量小于delta，判定收敛，算法终止\n",
    "\n",
    "    输入：新质心，旧质心\n",
    "    \n",
    "    输出：新旧质心距离（向量）\n",
    "      \n",
    "       "
   ]
  },
  {
   "cell_type": "code",
   "execution_count": 12,
   "metadata": {},
   "outputs": [],
   "source": [
    "k = 3\n",
    "delta = 0.0001\n",
    "max_iter = 300\n",
    "initial_centroids = km_center"
   ]
  },
  {
   "cell_type": "code",
   "execution_count": 13,
   "metadata": {},
   "outputs": [],
   "source": [
    "data = data.map(lambda x:x[1:])"
   ]
  },
  {
   "cell_type": "code",
   "execution_count": 27,
   "metadata": {},
   "outputs": [],
   "source": [
    "current_centroids = initial_centroids"
   ]
  },
  {
   "cell_type": "markdown",
   "metadata": {},
   "source": [
    "定义功能函数"
   ]
  },
  {
   "cell_type": "code",
   "execution_count": 14,
   "metadata": {},
   "outputs": [],
   "source": [
    "# 计算两向量的欧氏距离\n",
    "def eucDis(x,y):\n",
    "    sumdis = 0\n",
    "    for i,j in zip(x,y):\n",
    "        sumdis += (i-j)**2\n",
    "    return sumdis**0.5\n",
    "\n",
    "# Vector 求和\n",
    "def vecAdd(x):\n",
    "    vecres=[]\n",
    "    for i in range(len(x[0])):\n",
    "        sumi = 0\n",
    "        for j in x:\n",
    "            sumi += j[i]\n",
    "        vecres.append(sumi)\n",
    "    return vecres\n",
    "\n",
    "# 计算质心变化\n",
    "def change(new,current):\n",
    "    new_d = eucDis(vecAdd(new),vecAdd(current))\n",
    "    return new_d if new_d>=0 else -new_d"
   ]
  },
  {
   "cell_type": "markdown",
   "metadata": {},
   "source": [
    "mapper 对Vector分类"
   ]
  },
  {
   "cell_type": "code",
   "execution_count": 26,
   "metadata": {},
   "outputs": [],
   "source": [
    "def nearest_mapper(vec):\n",
    "    \"\"\"\n",
    "    Parameters:\n",
    "        vec: input vector\n",
    "    Returns:\n",
    "        nearest: the nearest center id\n",
    "        x: input x\n",
    "        1: counter\n",
    "    \"\"\"\n",
    "    x = vec\n",
    "    nearest = -1\n",
    "    nearest_dis = -1\n",
    "    for i in range(k):\n",
    "        dis = eucDis(x,current_centroids[i])\n",
    "        if nearest == -1:\n",
    "            nearest = i\n",
    "            nearest_dis = dis\n",
    "        else:\n",
    "            if dis<nearest_dis:\n",
    "                nearest = i\n",
    "                nearest_dis = dis \n",
    "    return (nearest,(x,1))"
   ]
  },
  {
   "cell_type": "markdown",
   "metadata": {},
   "source": [
    "reducer 重新计算质心"
   ]
  },
  {
   "cell_type": "code",
   "execution_count": 16,
   "metadata": {},
   "outputs": [],
   "source": [
    "def center_reducer(x,y):\n",
    "    return (vecAdd([x[0],y[0]]),x[1]+y[1])"
   ]
  },
  {
   "cell_type": "code",
   "execution_count": 32,
   "metadata": {},
   "outputs": [],
   "source": [
    "# 调整数据格式作为输入\n",
    "data_dev = data.map(lambda x:(0,(x,1)))"
   ]
  },
  {
   "cell_type": "code",
   "execution_count": null,
   "metadata": {},
   "outputs": [],
   "source": [
    "def k_means(data=data_dev,k=3,delta = 0.0001,max_iter = 300,initial_centroids = km_center):\n",
    "    # 初始化迭代计数器\n",
    "    iter_cnt = 0\n",
    "    # 初始化簇质心\n",
    "    current_centroids = initial_centroids    \n",
    "    # 迭代\n",
    "    while True:\n",
    "        cent_rdd = data_dev.reduceByKey(center_reducer)\n",
    "        \n",
    "        new_centroids\n",
    "        iter_cnt +=1\n",
    "        # TODO: 输出迭代信息\n",
    "        if change(new_centroids,current_centroids)<delta :\n",
    "            # 收敛\n",
    "            break;\n",
    "        if iter_cnt >= max_iter :\n",
    "            # 达到最大迭代次数\n",
    "            break;\n",
    "        current_centroids = new_centroids\n",
    "    return data    "
   ]
  }
 ],
 "metadata": {
  "kernelspec": {
   "display_name": "Python 3",
   "language": "python",
   "name": "python3"
  },
  "language_info": {
   "codemirror_mode": {
    "name": "ipython",
    "version": 3
   },
   "file_extension": ".py",
   "mimetype": "text/x-python",
   "name": "python",
   "nbconvert_exporter": "python",
   "pygments_lexer": "ipython3",
   "version": "3.6.5"
  }
 },
 "nbformat": 4,
 "nbformat_minor": 2
}
