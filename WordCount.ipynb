{
 "cells": [
  {
   "cell_type": "code",
   "execution_count": 1,
   "metadata": {},
   "outputs": [],
   "source": [
    "import findspark\n",
    "findspark.init()\n",
    "\n",
    "from pyspark.sql import SparkSession # SparkSession 是Spark 2.0版本的新入口\n",
    "spark = SparkSession.builder.master('local').getOrCreate()"
   ]
  },
  {
   "cell_type": "code",
   "execution_count": 13,
   "metadata": {
    "collapsed": true
   },
   "outputs": [
    {
     "data": {
      "text/plain": [
       "[(0, 0),\n",
       " (1, 0),\n",
       " (1, 1),\n",
       " (2, 0),\n",
       " (2, 1),\n",
       " (2, 2),\n",
       " (3, 0),\n",
       " (3, 1),\n",
       " (3, 2),\n",
       " (3, 3),\n",
       " (4, 0),\n",
       " (4, 1),\n",
       " (4, 2),\n",
       " (4, 3),\n",
       " (4, 4),\n",
       " (5, 0),\n",
       " (5, 1),\n",
       " (5, 2),\n",
       " (5, 3),\n",
       " (5, 4),\n",
       " (5, 5),\n",
       " (6, 0),\n",
       " (6, 1),\n",
       " (6, 2),\n",
       " (6, 3),\n",
       " (6, 4),\n",
       " (6, 5),\n",
       " (6, 6),\n",
       " (7, 0),\n",
       " (7, 1),\n",
       " (7, 2),\n",
       " (7, 3),\n",
       " (7, 4),\n",
       " (7, 5),\n",
       " (7, 6),\n",
       " (7, 7),\n",
       " (8, 0),\n",
       " (8, 1),\n",
       " (8, 2),\n",
       " (8, 3),\n",
       " (8, 4),\n",
       " (8, 5),\n",
       " (8, 6),\n",
       " (8, 7),\n",
       " (8, 8)]"
      ]
     },
     "execution_count": 13,
     "metadata": {},
     "output_type": "execute_result"
    }
   ],
   "source": [
    "data = []\n",
    "for i in range(9):\n",
    "    for j in range(i+1):\n",
    "        data.append((i,j))\n",
    "data"
   ]
  },
  {
   "cell_type": "code",
   "execution_count": 14,
   "metadata": {},
   "outputs": [],
   "source": [
    "rdd = spark.createDataFrame(data).rdd"
   ]
  },
  {
   "cell_type": "code",
   "execution_count": 15,
   "metadata": {
    "collapsed": true
   },
   "outputs": [
    {
     "name": "stdout",
     "output_type": "stream",
     "text": [
      "[Row(_1=0, _2=0), Row(_1=1, _2=0), Row(_1=1, _2=1), Row(_1=2, _2=0), Row(_1=2, _2=1), Row(_1=2, _2=2), Row(_1=3, _2=0), Row(_1=3, _2=1), Row(_1=3, _2=2), Row(_1=3, _2=3), Row(_1=4, _2=0), Row(_1=4, _2=1), Row(_1=4, _2=2), Row(_1=4, _2=3), Row(_1=4, _2=4), Row(_1=5, _2=0), Row(_1=5, _2=1), Row(_1=5, _2=2), Row(_1=5, _2=3), Row(_1=5, _2=4), Row(_1=5, _2=5), Row(_1=6, _2=0), Row(_1=6, _2=1), Row(_1=6, _2=2), Row(_1=6, _2=3), Row(_1=6, _2=4), Row(_1=6, _2=5), Row(_1=6, _2=6), Row(_1=7, _2=0), Row(_1=7, _2=1), Row(_1=7, _2=2), Row(_1=7, _2=3), Row(_1=7, _2=4), Row(_1=7, _2=5), Row(_1=7, _2=6), Row(_1=7, _2=7), Row(_1=8, _2=0), Row(_1=8, _2=1), Row(_1=8, _2=2), Row(_1=8, _2=3), Row(_1=8, _2=4), Row(_1=8, _2=5), Row(_1=8, _2=6), Row(_1=8, _2=7), Row(_1=8, _2=8)]\n"
     ]
    }
   ],
   "source": [
    "print(rdd.collect())"
   ]
  },
  {
   "cell_type": "code",
   "execution_count": 16,
   "metadata": {},
   "outputs": [],
   "source": [
    "pair_rdd = rdd.map(lambda x:(x[0]+1,[x[1]]))"
   ]
  },
  {
   "cell_type": "code",
   "execution_count": 17,
   "metadata": {
    "collapsed": true
   },
   "outputs": [
    {
     "data": {
      "text/plain": [
       "[(1, [0]),\n",
       " (2, [0]),\n",
       " (2, [1]),\n",
       " (3, [0]),\n",
       " (3, [1]),\n",
       " (3, [2]),\n",
       " (4, [0]),\n",
       " (4, [1]),\n",
       " (4, [2]),\n",
       " (4, [3]),\n",
       " (5, [0]),\n",
       " (5, [1]),\n",
       " (5, [2]),\n",
       " (5, [3]),\n",
       " (5, [4]),\n",
       " (6, [0]),\n",
       " (6, [1]),\n",
       " (6, [2]),\n",
       " (6, [3]),\n",
       " (6, [4]),\n",
       " (6, [5]),\n",
       " (7, [0]),\n",
       " (7, [1]),\n",
       " (7, [2]),\n",
       " (7, [3]),\n",
       " (7, [4]),\n",
       " (7, [5]),\n",
       " (7, [6]),\n",
       " (8, [0]),\n",
       " (8, [1]),\n",
       " (8, [2]),\n",
       " (8, [3]),\n",
       " (8, [4]),\n",
       " (8, [5]),\n",
       " (8, [6]),\n",
       " (8, [7]),\n",
       " (9, [0]),\n",
       " (9, [1]),\n",
       " (9, [2]),\n",
       " (9, [3]),\n",
       " (9, [4]),\n",
       " (9, [5]),\n",
       " (9, [6]),\n",
       " (9, [7]),\n",
       " (9, [8])]"
      ]
     },
     "execution_count": 17,
     "metadata": {},
     "output_type": "execute_result"
    }
   ],
   "source": [
    "pair_rdd.collect()"
   ]
  },
  {
   "cell_type": "code",
   "execution_count": 30,
   "metadata": {},
   "outputs": [],
   "source": [
    "n = 1\n",
    "def get_list(x,y):\n",
    "    global n\n",
    "    n+=1\n",
    "    if n%2 is 1:\n",
    "        return x+y\n",
    "    return x"
   ]
  },
  {
   "cell_type": "code",
   "execution_count": 53,
   "metadata": {},
   "outputs": [
    {
     "data": {
      "text/plain": [
       "[(1, [0]),\n",
       " (2, [0]),\n",
       " (3, [0, 1]),\n",
       " (4, [0, 1, 3]),\n",
       " (5, [0, 2, 4]),\n",
       " (6, [0, 2, 4]),\n",
       " (7, [0, 1, 3, 5]),\n",
       " (8, [0, 1, 3, 5, 7]),\n",
       " (9, [0, 2, 4, 6, 8])]"
      ]
     },
     "execution_count": 53,
     "metadata": {},
     "output_type": "execute_result"
    }
   ],
   "source": [
    "pair_rdd_result = pair_rdd.reduceByKey(get_list)\n",
    "pair_rdd_result.collect()"
   ]
  },
  {
   "cell_type": "code",
   "execution_count": 42,
   "metadata": {},
   "outputs": [],
   "source": [
    "pair_rdd_flat = pair_rdd_result.flatMapValues(lambda x:x[:])"
   ]
  },
  {
   "cell_type": "code",
   "execution_count": 44,
   "metadata": {},
   "outputs": [
    {
     "data": {
      "text/plain": [
       "[(1, 0),\n",
       " (2, 0),\n",
       " (3, 0),\n",
       " (3, 1),\n",
       " (4, 0),\n",
       " (4, 1),\n",
       " (4, 3),\n",
       " (5, 0),\n",
       " (5, 2),\n",
       " (5, 4),\n",
       " (6, 0),\n",
       " (6, 2),\n",
       " (6, 4),\n",
       " (7, 0),\n",
       " (7, 1),\n",
       " (7, 3),\n",
       " (7, 5),\n",
       " (8, 0),\n",
       " (8, 1),\n",
       " (8, 3),\n",
       " (8, 5),\n",
       " (8, 7),\n",
       " (9, 0),\n",
       " (9, 2),\n",
       " (9, 4),\n",
       " (9, 6),\n",
       " (9, 8)]"
      ]
     },
     "execution_count": 44,
     "metadata": {},
     "output_type": "execute_result"
    }
   ],
   "source": [
    "pair_rdd_flat.collect()"
   ]
  },
  {
   "cell_type": "markdown",
   "metadata": {},
   "source": [
    "# 日期处理"
   ]
  },
  {
   "cell_type": "code",
   "execution_count": 100,
   "metadata": {},
   "outputs": [],
   "source": [
    "from dateutil.parser import  parse\n"
   ]
  },
  {
   "cell_type": "code",
   "execution_count": 112,
   "metadata": {},
   "outputs": [
    {
     "data": {
      "text/plain": [
       "datetime.datetime(2019, 3, 31, 0, 0)"
      ]
     },
     "execution_count": 112,
     "metadata": {},
     "output_type": "execute_result"
    }
   ],
   "source": [
    "t=parse(\"March 31,2019\")\n",
    "t"
   ]
  },
  {
   "cell_type": "code",
   "execution_count": 125,
   "metadata": {},
   "outputs": [
    {
     "name": "stdout",
     "output_type": "stream",
     "text": [
      "error\n"
     ]
    }
   ],
   "source": [
    "try:\n",
    "    parse(\"2019-02-29\")\n",
    "    print('ok')\n",
    "except ValueError:\n",
    "    print('error')"
   ]
  },
  {
   "cell_type": "code",
   "execution_count": 72,
   "metadata": {},
   "outputs": [
    {
     "data": {
      "text/plain": [
       "datetime.datetime(2018, 3, 21, 0, 0)"
      ]
     },
     "execution_count": 72,
     "metadata": {},
     "output_type": "execute_result"
    }
   ],
   "source": [
    "parse(\"2018/03/21\")"
   ]
  },
  {
   "cell_type": "code",
   "execution_count": 86,
   "metadata": {},
   "outputs": [
    {
     "ename": "TypeError",
     "evalue": "time() takes no arguments (2 given)",
     "output_type": "error",
     "traceback": [
      "\u001b[0;31m---------------------------------------------------------------------------\u001b[0m",
      "\u001b[0;31mTypeError\u001b[0m                                 Traceback (most recent call last)",
      "\u001b[0;32m<ipython-input-86-a5d0a16290d3>\u001b[0m in \u001b[0;36m<module>\u001b[0;34m()\u001b[0m\n\u001b[0;32m----> 1\u001b[0;31m \u001b[0mtime\u001b[0m\u001b[0;34m.\u001b[0m\u001b[0mtime\u001b[0m\u001b[0;34m(\u001b[0m\u001b[0;34m\"%Y-%m-%d\"\u001b[0m\u001b[0;34m,\u001b[0m\u001b[0mt\u001b[0m\u001b[0;34m.\u001b[0m\u001b[0mtime\u001b[0m\u001b[0;34m)\u001b[0m\u001b[0;34m\u001b[0m\u001b[0m\n\u001b[0m",
      "\u001b[0;31mTypeError\u001b[0m: time() takes no arguments (2 given)"
     ]
    }
   ],
   "source": [
    "time.time(\"%Y-%m-%d\",t.time)"
   ]
  },
  {
   "cell_type": "code",
   "execution_count": 101,
   "metadata": {},
   "outputs": [
    {
     "data": {
      "text/plain": [
       "'2019-03-21'"
      ]
     },
     "execution_count": 101,
     "metadata": {},
     "output_type": "execute_result"
    }
   ],
   "source": [
    "str(t.date())"
   ]
  },
  {
   "cell_type": "code",
   "execution_count": 110,
   "metadata": {},
   "outputs": [
    {
     "data": {
      "text/plain": [
       "'2019-03-21'"
      ]
     },
     "execution_count": 110,
     "metadata": {},
     "output_type": "execute_result"
    }
   ],
   "source": [
    "str(parse(\"March 21,2019\").date())"
   ]
  },
  {
   "cell_type": "code",
   "execution_count": 104,
   "metadata": {},
   "outputs": [],
   "source": [
    "s = '℃'"
   ]
  },
  {
   "cell_type": "code",
   "execution_count": 108,
   "metadata": {},
   "outputs": [
    {
     "data": {
      "text/plain": [
       "False"
      ]
     },
     "execution_count": 108,
     "metadata": {},
     "output_type": "execute_result"
    }
   ],
   "source": [
    "'C' in s"
   ]
  },
  {
   "cell_type": "code",
   "execution_count": 122,
   "metadata": {},
   "outputs": [],
   "source": [
    "import dateutil.parser as par"
   ]
  },
  {
   "cell_type": "code",
   "execution_count": null,
   "metadata": {},
   "outputs": [],
   "source": [
    "par."
   ]
  }
 ],
 "metadata": {
  "kernelspec": {
   "display_name": "Python 3",
   "language": "python",
   "name": "python3"
  },
  "language_info": {
   "codemirror_mode": {
    "name": "ipython",
    "version": 3
   },
   "file_extension": ".py",
   "mimetype": "text/x-python",
   "name": "python",
   "nbconvert_exporter": "python",
   "pygments_lexer": "ipython3",
   "version": "3.6.5"
  }
 },
 "nbformat": 4,
 "nbformat_minor": 2
}
